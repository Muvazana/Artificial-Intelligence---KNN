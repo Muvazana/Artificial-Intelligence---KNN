{
  "nbformat": 4,
  "nbformat_minor": 0,
  "metadata": {
    "colab": {
      "name": "AI_Group 2 Assignment.ipynb",
      "provenance": [],
      "collapsed_sections": [],
      "authorship_tag": "ABX9TyMzYGkkF0eAiK2zbmXI3wok",
      "include_colab_link": true
    },
    "kernelspec": {
      "name": "python3",
      "display_name": "Python 3"
    },
    "language_info": {
      "name": "python"
    }
  },
  "cells": [
    {
      "cell_type": "markdown",
      "metadata": {
        "id": "view-in-github",
        "colab_type": "text"
      },
      "source": [
        "<a href=\"https://colab.research.google.com/github/Muvazana/Artificial-Intelligence---KNN/blob/main/AI_Group_2_Assignment.ipynb\" target=\"_parent\"><img src=\"https://colab.research.google.com/assets/colab-badge.svg\" alt=\"Open In Colab\"/></a>"
      ]
    },
    {
      "cell_type": "markdown",
      "metadata": {
        "id": "Fwc8M11MFtPk"
      },
      "source": [
        "# **Tugas Program KNN Kelompok-2**\n",
        "Anggota:\n",
        "- AZRIEL FARASFAUZAN SEPVIRA (1301190359)\n",
        "- MOCH. NAUVAL RIZALDI NASRIL (1301194482)"
      ]
    },
    {
      "cell_type": "markdown",
      "metadata": {
        "id": "0-JDjY1L2_xm"
      },
      "source": [
        "# Import Library"
      ]
    },
    {
      "cell_type": "code",
      "metadata": {
        "id": "tWcyMZOG0FUQ"
      },
      "source": [
        "import numpy as np\n",
        "import pandas as pd\n",
        "from math import sqrt"
      ],
      "execution_count": null,
      "outputs": []
    },
    {
      "cell_type": "markdown",
      "metadata": {
        "id": "IPGJNQmo3GVt"
      },
      "source": [
        "# Membaca file training data dan Prapemrosesan data\n",
        "\n",
        "\n",
        "---\n",
        "\n",
        "\n",
        "\n"
      ]
    },
    {
      "cell_type": "markdown",
      "metadata": {
        "id": "L8RC_hfkKC7y"
      },
      "source": [
        "## Membaca File mobil.xls"
      ]
    },
    {
      "cell_type": "code",
      "metadata": {
        "colab": {
          "base_uri": "https://localhost:8080/",
          "height": 204
        },
        "id": "vGW-ctd11_pw",
        "outputId": "1d25954d-4de5-48ce-e85b-68170c99168b"
      },
      "source": [
        "raw_data = pd.read_excel(\"https://github.com/Muvazana/Artificial-Intelligence---KNN/blob/main/mobil.xls?raw=true\")\n",
        "raw_data.head()"
      ],
      "execution_count": null,
      "outputs": [
        {
          "output_type": "execute_result",
          "data": {
            "text/html": [
              "<div>\n",
              "<style scoped>\n",
              "    .dataframe tbody tr th:only-of-type {\n",
              "        vertical-align: middle;\n",
              "    }\n",
              "\n",
              "    .dataframe tbody tr th {\n",
              "        vertical-align: top;\n",
              "    }\n",
              "\n",
              "    .dataframe thead th {\n",
              "        text-align: right;\n",
              "    }\n",
              "</style>\n",
              "<table border=\"1\" class=\"dataframe\">\n",
              "  <thead>\n",
              "    <tr style=\"text-align: right;\">\n",
              "      <th></th>\n",
              "      <th>Nama Mobil</th>\n",
              "      <th>Ukuran</th>\n",
              "      <th>Kenyamanan</th>\n",
              "      <th>Irit</th>\n",
              "      <th>Kecepatan</th>\n",
              "      <th>Harga (Ratus Juta)</th>\n",
              "    </tr>\n",
              "  </thead>\n",
              "  <tbody>\n",
              "    <tr>\n",
              "      <th>0</th>\n",
              "      <td>Toyota Agya</td>\n",
              "      <td>4</td>\n",
              "      <td>4</td>\n",
              "      <td>9</td>\n",
              "      <td>6</td>\n",
              "      <td>1.00</td>\n",
              "    </tr>\n",
              "    <tr>\n",
              "      <th>1</th>\n",
              "      <td>Daihatsu Alya</td>\n",
              "      <td>4</td>\n",
              "      <td>3</td>\n",
              "      <td>9</td>\n",
              "      <td>6</td>\n",
              "      <td>1.10</td>\n",
              "    </tr>\n",
              "    <tr>\n",
              "      <th>2</th>\n",
              "      <td>Toyota Avanza</td>\n",
              "      <td>6</td>\n",
              "      <td>5</td>\n",
              "      <td>6</td>\n",
              "      <td>6</td>\n",
              "      <td>2.00</td>\n",
              "    </tr>\n",
              "    <tr>\n",
              "      <th>3</th>\n",
              "      <td>Daihatsu Xenia</td>\n",
              "      <td>6</td>\n",
              "      <td>4</td>\n",
              "      <td>6</td>\n",
              "      <td>6</td>\n",
              "      <td>1.75</td>\n",
              "    </tr>\n",
              "    <tr>\n",
              "      <th>4</th>\n",
              "      <td>Xpander</td>\n",
              "      <td>7</td>\n",
              "      <td>7</td>\n",
              "      <td>6</td>\n",
              "      <td>7</td>\n",
              "      <td>2.25</td>\n",
              "    </tr>\n",
              "  </tbody>\n",
              "</table>\n",
              "</div>"
            ],
            "text/plain": [
              "       Nama Mobil  Ukuran  Kenyamanan  Irit  Kecepatan  Harga (Ratus Juta)\n",
              "0     Toyota Agya       4           4     9          6                1.00\n",
              "1   Daihatsu Alya       4           3     9          6                1.10\n",
              "2   Toyota Avanza       6           5     6          6                2.00\n",
              "3  Daihatsu Xenia       6           4     6          6                1.75\n",
              "4         Xpander       7           7     6          7                2.25"
            ]
          },
          "metadata": {
            "tags": []
          },
          "execution_count": 2
        }
      ]
    },
    {
      "cell_type": "markdown",
      "metadata": {
        "id": "vchbcjIpKmxL"
      },
      "source": [
        "## Membaca File test.xls"
      ]
    },
    {
      "cell_type": "code",
      "metadata": {
        "colab": {
          "base_uri": "https://localhost:8080/",
          "height": 80
        },
        "id": "xk6utBqfKYQF",
        "outputId": "5038d33a-31c9-4cb3-cfad-da06e2249545"
      },
      "source": [
        "test_data = pd.read_excel(\"https://github.com/Muvazana/Artificial-Intelligence---KNN/blob/main/test.xls?raw=true\")\n",
        "test_data.head()"
      ],
      "execution_count": null,
      "outputs": [
        {
          "output_type": "execute_result",
          "data": {
            "text/html": [
              "<div>\n",
              "<style scoped>\n",
              "    .dataframe tbody tr th:only-of-type {\n",
              "        vertical-align: middle;\n",
              "    }\n",
              "\n",
              "    .dataframe tbody tr th {\n",
              "        vertical-align: top;\n",
              "    }\n",
              "\n",
              "    .dataframe thead th {\n",
              "        text-align: right;\n",
              "    }\n",
              "</style>\n",
              "<table border=\"1\" class=\"dataframe\">\n",
              "  <thead>\n",
              "    <tr style=\"text-align: right;\">\n",
              "      <th></th>\n",
              "      <th>Ukuran</th>\n",
              "      <th>Kenyamanan</th>\n",
              "      <th>Irit</th>\n",
              "      <th>Kecepatan</th>\n",
              "      <th>Harga (Ratus Juta)</th>\n",
              "    </tr>\n",
              "  </thead>\n",
              "  <tbody>\n",
              "    <tr>\n",
              "      <th>0</th>\n",
              "      <td>5</td>\n",
              "      <td>7</td>\n",
              "      <td>8</td>\n",
              "      <td>8</td>\n",
              "      <td>2.5</td>\n",
              "    </tr>\n",
              "  </tbody>\n",
              "</table>\n",
              "</div>"
            ],
            "text/plain": [
              "   Ukuran  Kenyamanan  Irit  Kecepatan  Harga (Ratus Juta)\n",
              "0       5           7     8          8                 2.5"
            ]
          },
          "metadata": {
            "tags": []
          },
          "execution_count": 3
        }
      ]
    },
    {
      "cell_type": "markdown",
      "metadata": {
        "id": "iEEtVP6gKtGd"
      },
      "source": [
        "## Prapemrosesan data dari mobil.xls"
      ]
    },
    {
      "cell_type": "code",
      "metadata": {
        "colab": {
          "base_uri": "https://localhost:8080/",
          "height": 204
        },
        "id": "zzAgtLUcKkQP",
        "outputId": "62ecbbc1-e276-4fe9-cee7-9df235c28b4c"
      },
      "source": [
        "raw_data.isna().sum() # menghilangkan data yang null\n",
        "data = raw_data.drop([\"Nama Mobil\"], axis = 1) # menghilangkan column yang tidak dipakai\n",
        "display(data.head())"
      ],
      "execution_count": null,
      "outputs": [
        {
          "output_type": "display_data",
          "data": {
            "text/html": [
              "<div>\n",
              "<style scoped>\n",
              "    .dataframe tbody tr th:only-of-type {\n",
              "        vertical-align: middle;\n",
              "    }\n",
              "\n",
              "    .dataframe tbody tr th {\n",
              "        vertical-align: top;\n",
              "    }\n",
              "\n",
              "    .dataframe thead th {\n",
              "        text-align: right;\n",
              "    }\n",
              "</style>\n",
              "<table border=\"1\" class=\"dataframe\">\n",
              "  <thead>\n",
              "    <tr style=\"text-align: right;\">\n",
              "      <th></th>\n",
              "      <th>Ukuran</th>\n",
              "      <th>Kenyamanan</th>\n",
              "      <th>Irit</th>\n",
              "      <th>Kecepatan</th>\n",
              "      <th>Harga (Ratus Juta)</th>\n",
              "    </tr>\n",
              "  </thead>\n",
              "  <tbody>\n",
              "    <tr>\n",
              "      <th>0</th>\n",
              "      <td>4</td>\n",
              "      <td>4</td>\n",
              "      <td>9</td>\n",
              "      <td>6</td>\n",
              "      <td>1.00</td>\n",
              "    </tr>\n",
              "    <tr>\n",
              "      <th>1</th>\n",
              "      <td>4</td>\n",
              "      <td>3</td>\n",
              "      <td>9</td>\n",
              "      <td>6</td>\n",
              "      <td>1.10</td>\n",
              "    </tr>\n",
              "    <tr>\n",
              "      <th>2</th>\n",
              "      <td>6</td>\n",
              "      <td>5</td>\n",
              "      <td>6</td>\n",
              "      <td>6</td>\n",
              "      <td>2.00</td>\n",
              "    </tr>\n",
              "    <tr>\n",
              "      <th>3</th>\n",
              "      <td>6</td>\n",
              "      <td>4</td>\n",
              "      <td>6</td>\n",
              "      <td>6</td>\n",
              "      <td>1.75</td>\n",
              "    </tr>\n",
              "    <tr>\n",
              "      <th>4</th>\n",
              "      <td>7</td>\n",
              "      <td>7</td>\n",
              "      <td>6</td>\n",
              "      <td>7</td>\n",
              "      <td>2.25</td>\n",
              "    </tr>\n",
              "  </tbody>\n",
              "</table>\n",
              "</div>"
            ],
            "text/plain": [
              "   Ukuran  Kenyamanan  Irit  Kecepatan  Harga (Ratus Juta)\n",
              "0       4           4     9          6                1.00\n",
              "1       4           3     9          6                1.10\n",
              "2       6           5     6          6                2.00\n",
              "3       6           4     6          6                1.75\n",
              "4       7           7     6          7                2.25"
            ]
          },
          "metadata": {
            "tags": []
          }
        }
      ]
    },
    {
      "cell_type": "markdown",
      "metadata": {
        "id": "xtg3dt2w43PU"
      },
      "source": [
        "# Perhitungan ukuran jarak"
      ]
    },
    {
      "cell_type": "code",
      "metadata": {
        "id": "gtY16V-126pc"
      },
      "source": [
        "def euclideanDistanceMethod(data1, data2):\n",
        "  return sqrt(sum([(data1[i] - data2[i]) ** 2 for i in range(len(data1))]))\n",
        "\n",
        "def manhattanDistanceMethod(data1, data2):\n",
        "  return sum([abs(data1[i] - data2[i]) for i in range(len(data1))])\n",
        "\n",
        "def minkowskiDistanceMethod(data1, data2, p):\n",
        "  return sum([abs(data1[i] - data2[i]) ** p for i in range(len(data1))]) ** (1/p)\n",
        "\n",
        "def supremumDistanceMethod(data1, data2):\n",
        "  return max([abs(data1[i] - data2[i]) for i in range(len(data1))])"
      ],
      "execution_count": null,
      "outputs": []
    },
    {
      "cell_type": "markdown",
      "metadata": {
        "id": "Z9mF07zZK6Tl"
      },
      "source": [
        "# Pemprosessan KNN "
      ]
    },
    {
      "cell_type": "code",
      "metadata": {
        "colab": {
          "base_uri": "https://localhost:8080/",
          "height": 665
        },
        "id": "KOyUm6rB-_Hx",
        "outputId": "d1b27003-95f6-4710-a0b8-0456c5f5b2a9"
      },
      "source": [
        "def knnMethod(k):\n",
        "  euclidean_distance_list = []\n",
        "  manhattan_distance_list = []\n",
        "  minkowski_distance_list = []\n",
        "  supremum_distance_list = []\n",
        "  \n",
        "  for item in data.values:\n",
        "    euclidean_distance_list.append(euclideanDistanceMethod(item, test_data.values[0]))\n",
        "    manhattan_distance_list.append(manhattanDistanceMethod(item, test_data.values[0]))\n",
        "    minkowski_distance_list.append(minkowskiDistanceMethod(item, test_data.values[0], 3))\n",
        "    supremum_distance_list.append(supremumDistanceMethod(item, test_data.values[0]))\n",
        "\n",
        "  raw_data[\"Euclidean Distance\"] = euclidean_distance_list\n",
        "  raw_data[\"Manhattan Distance\"] = manhattan_distance_list\n",
        "  raw_data[\"Minkowski Distance\"] = minkowski_distance_list\n",
        "  raw_data[\"Supremum Distance\"]  = supremum_distance_list\n",
        "\n",
        "  euclidean_sorted = raw_data.sort_values(by=['Euclidean Distance'])[:k]\n",
        "  manhattan_sorted = raw_data.sort_values(by=['Manhattan Distance'])[:k]\n",
        "  minkowski_sorted = raw_data.sort_values(by=['Minkowski Distance'])[:k]\n",
        "  supremum_sorted = raw_data.sort_values(by=['Supremum Distance'])[:k]\n",
        "\n",
        "  all_rekomendasi = pd.DataFrame()\n",
        "  all_rekomendasi[\"Euclidean Distance\"] = euclidean_sorted[\"Nama Mobil\"]\n",
        "  all_rekomendasi[\"Manhattan Distance\"] = euclidean_sorted[\"Nama Mobil\"]\n",
        "  all_rekomendasi[\"Minkowski Distance\"] = euclidean_sorted[\"Nama Mobil\"]\n",
        "  all_rekomendasi[\"Supremum Distance\"] = euclidean_sorted[\"Nama Mobil\"]\n",
        "\n",
        "  all_rekomendasi.to_excel('Rekomendasi.xls', index=False, header=True)\n",
        "\n",
        "  euclidean_sorted[\"Nama Mobil\"].to_excel('Rekomendasi Euclidean Distance.xls', index=False, header=False)\n",
        "  manhattan_sorted[\"Nama Mobil\"].to_excel('Rekomendasi Manhattan Distance.xls', index=False, header=False)\n",
        "  minkowski_sorted[\"Nama Mobil\"].to_excel('Rekomendasi Minkowski Distance.xls', index=False, header=False)\n",
        "  supremum_sorted[\"Nama Mobil\"].to_excel('Rekomendasi Supremum Distance.xls', index=False, header=False)\n",
        "\n",
        "  return euclidean_sorted, manhattan_sorted, minkowski_sorted, supremum_sorted\n",
        "\n",
        "euclidean, manhattan, minkowski, supremum = knnMethod(3)\n",
        "\n",
        "print(\"---> Testing Input :\")\n",
        "display(test_data)\n",
        "print(\"---> Sort By: Euclidean Distance:\")\n",
        "display(euclidean)\n",
        "print(\"---> Sort By: Manhattan Distance:\")\n",
        "display(manhattan)\n",
        "print(\"---> Sort By: Minkowski Distance:\")\n",
        "display(minkowski)\n",
        "print(\"---> Sort By: Supremum Distance:\")\n",
        "display(supremum)"
      ],
      "execution_count": null,
      "outputs": [
        {
          "output_type": "stream",
          "text": [
            "---> Testing Input :\n"
          ],
          "name": "stdout"
        },
        {
          "output_type": "display_data",
          "data": {
            "text/html": [
              "<div>\n",
              "<style scoped>\n",
              "    .dataframe tbody tr th:only-of-type {\n",
              "        vertical-align: middle;\n",
              "    }\n",
              "\n",
              "    .dataframe tbody tr th {\n",
              "        vertical-align: top;\n",
              "    }\n",
              "\n",
              "    .dataframe thead th {\n",
              "        text-align: right;\n",
              "    }\n",
              "</style>\n",
              "<table border=\"1\" class=\"dataframe\">\n",
              "  <thead>\n",
              "    <tr style=\"text-align: right;\">\n",
              "      <th></th>\n",
              "      <th>Ukuran</th>\n",
              "      <th>Kenyamanan</th>\n",
              "      <th>Irit</th>\n",
              "      <th>Kecepatan</th>\n",
              "      <th>Harga (Ratus Juta)</th>\n",
              "    </tr>\n",
              "  </thead>\n",
              "  <tbody>\n",
              "    <tr>\n",
              "      <th>0</th>\n",
              "      <td>5</td>\n",
              "      <td>7</td>\n",
              "      <td>8</td>\n",
              "      <td>8</td>\n",
              "      <td>2.5</td>\n",
              "    </tr>\n",
              "  </tbody>\n",
              "</table>\n",
              "</div>"
            ],
            "text/plain": [
              "   Ukuran  Kenyamanan  Irit  Kecepatan  Harga (Ratus Juta)\n",
              "0       5           7     8          8                 2.5"
            ]
          },
          "metadata": {
            "tags": []
          }
        },
        {
          "output_type": "stream",
          "text": [
            "---> Sort By: Euclidean Distance:\n"
          ],
          "name": "stdout"
        },
        {
          "output_type": "display_data",
          "data": {
            "text/html": [
              "<div>\n",
              "<style scoped>\n",
              "    .dataframe tbody tr th:only-of-type {\n",
              "        vertical-align: middle;\n",
              "    }\n",
              "\n",
              "    .dataframe tbody tr th {\n",
              "        vertical-align: top;\n",
              "    }\n",
              "\n",
              "    .dataframe thead th {\n",
              "        text-align: right;\n",
              "    }\n",
              "</style>\n",
              "<table border=\"1\" class=\"dataframe\">\n",
              "  <thead>\n",
              "    <tr style=\"text-align: right;\">\n",
              "      <th></th>\n",
              "      <th>Nama Mobil</th>\n",
              "      <th>Ukuran</th>\n",
              "      <th>Kenyamanan</th>\n",
              "      <th>Irit</th>\n",
              "      <th>Kecepatan</th>\n",
              "      <th>Harga (Ratus Juta)</th>\n",
              "      <th>Euclidean Distance</th>\n",
              "      <th>Manhattan Distance</th>\n",
              "      <th>Minkowski Distance</th>\n",
              "      <th>Supremum Distance</th>\n",
              "    </tr>\n",
              "  </thead>\n",
              "  <tbody>\n",
              "    <tr>\n",
              "      <th>9</th>\n",
              "      <td>Toyota Vios</td>\n",
              "      <td>5</td>\n",
              "      <td>7</td>\n",
              "      <td>9</td>\n",
              "      <td>8</td>\n",
              "      <td>2.5</td>\n",
              "      <td>1.000000</td>\n",
              "      <td>1.0</td>\n",
              "      <td>1.000000</td>\n",
              "      <td>1.0</td>\n",
              "    </tr>\n",
              "    <tr>\n",
              "      <th>10</th>\n",
              "      <td>Honda City</td>\n",
              "      <td>5</td>\n",
              "      <td>8</td>\n",
              "      <td>7</td>\n",
              "      <td>8</td>\n",
              "      <td>2.7</td>\n",
              "      <td>1.428286</td>\n",
              "      <td>2.2</td>\n",
              "      <td>1.261599</td>\n",
              "      <td>1.0</td>\n",
              "    </tr>\n",
              "    <tr>\n",
              "      <th>15</th>\n",
              "      <td>Suzuki Ertiga</td>\n",
              "      <td>7</td>\n",
              "      <td>7</td>\n",
              "      <td>7</td>\n",
              "      <td>7</td>\n",
              "      <td>2.3</td>\n",
              "      <td>2.457641</td>\n",
              "      <td>4.2</td>\n",
              "      <td>2.155009</td>\n",
              "      <td>2.0</td>\n",
              "    </tr>\n",
              "  </tbody>\n",
              "</table>\n",
              "</div>"
            ],
            "text/plain": [
              "       Nama Mobil  Ukuran  ...  Minkowski Distance  Supremum Distance\n",
              "9     Toyota Vios       5  ...            1.000000                1.0\n",
              "10     Honda City       5  ...            1.261599                1.0\n",
              "15  Suzuki Ertiga       7  ...            2.155009                2.0\n",
              "\n",
              "[3 rows x 10 columns]"
            ]
          },
          "metadata": {
            "tags": []
          }
        },
        {
          "output_type": "stream",
          "text": [
            "---> Sort By: Manhattan Distance:\n"
          ],
          "name": "stdout"
        },
        {
          "output_type": "display_data",
          "data": {
            "text/html": [
              "<div>\n",
              "<style scoped>\n",
              "    .dataframe tbody tr th:only-of-type {\n",
              "        vertical-align: middle;\n",
              "    }\n",
              "\n",
              "    .dataframe tbody tr th {\n",
              "        vertical-align: top;\n",
              "    }\n",
              "\n",
              "    .dataframe thead th {\n",
              "        text-align: right;\n",
              "    }\n",
              "</style>\n",
              "<table border=\"1\" class=\"dataframe\">\n",
              "  <thead>\n",
              "    <tr style=\"text-align: right;\">\n",
              "      <th></th>\n",
              "      <th>Nama Mobil</th>\n",
              "      <th>Ukuran</th>\n",
              "      <th>Kenyamanan</th>\n",
              "      <th>Irit</th>\n",
              "      <th>Kecepatan</th>\n",
              "      <th>Harga (Ratus Juta)</th>\n",
              "      <th>Euclidean Distance</th>\n",
              "      <th>Manhattan Distance</th>\n",
              "      <th>Minkowski Distance</th>\n",
              "      <th>Supremum Distance</th>\n",
              "    </tr>\n",
              "  </thead>\n",
              "  <tbody>\n",
              "    <tr>\n",
              "      <th>9</th>\n",
              "      <td>Toyota Vios</td>\n",
              "      <td>5</td>\n",
              "      <td>7</td>\n",
              "      <td>9</td>\n",
              "      <td>8</td>\n",
              "      <td>2.5</td>\n",
              "      <td>1.000000</td>\n",
              "      <td>1.0</td>\n",
              "      <td>1.000000</td>\n",
              "      <td>1.0</td>\n",
              "    </tr>\n",
              "    <tr>\n",
              "      <th>10</th>\n",
              "      <td>Honda City</td>\n",
              "      <td>5</td>\n",
              "      <td>8</td>\n",
              "      <td>7</td>\n",
              "      <td>8</td>\n",
              "      <td>2.7</td>\n",
              "      <td>1.428286</td>\n",
              "      <td>2.2</td>\n",
              "      <td>1.261599</td>\n",
              "      <td>1.0</td>\n",
              "    </tr>\n",
              "    <tr>\n",
              "      <th>15</th>\n",
              "      <td>Suzuki Ertiga</td>\n",
              "      <td>7</td>\n",
              "      <td>7</td>\n",
              "      <td>7</td>\n",
              "      <td>7</td>\n",
              "      <td>2.3</td>\n",
              "      <td>2.457641</td>\n",
              "      <td>4.2</td>\n",
              "      <td>2.155009</td>\n",
              "      <td>2.0</td>\n",
              "    </tr>\n",
              "  </tbody>\n",
              "</table>\n",
              "</div>"
            ],
            "text/plain": [
              "       Nama Mobil  Ukuran  ...  Minkowski Distance  Supremum Distance\n",
              "9     Toyota Vios       5  ...            1.000000                1.0\n",
              "10     Honda City       5  ...            1.261599                1.0\n",
              "15  Suzuki Ertiga       7  ...            2.155009                2.0\n",
              "\n",
              "[3 rows x 10 columns]"
            ]
          },
          "metadata": {
            "tags": []
          }
        },
        {
          "output_type": "stream",
          "text": [
            "---> Sort By: Minkowski Distance:\n"
          ],
          "name": "stdout"
        },
        {
          "output_type": "display_data",
          "data": {
            "text/html": [
              "<div>\n",
              "<style scoped>\n",
              "    .dataframe tbody tr th:only-of-type {\n",
              "        vertical-align: middle;\n",
              "    }\n",
              "\n",
              "    .dataframe tbody tr th {\n",
              "        vertical-align: top;\n",
              "    }\n",
              "\n",
              "    .dataframe thead th {\n",
              "        text-align: right;\n",
              "    }\n",
              "</style>\n",
              "<table border=\"1\" class=\"dataframe\">\n",
              "  <thead>\n",
              "    <tr style=\"text-align: right;\">\n",
              "      <th></th>\n",
              "      <th>Nama Mobil</th>\n",
              "      <th>Ukuran</th>\n",
              "      <th>Kenyamanan</th>\n",
              "      <th>Irit</th>\n",
              "      <th>Kecepatan</th>\n",
              "      <th>Harga (Ratus Juta)</th>\n",
              "      <th>Euclidean Distance</th>\n",
              "      <th>Manhattan Distance</th>\n",
              "      <th>Minkowski Distance</th>\n",
              "      <th>Supremum Distance</th>\n",
              "    </tr>\n",
              "  </thead>\n",
              "  <tbody>\n",
              "    <tr>\n",
              "      <th>9</th>\n",
              "      <td>Toyota Vios</td>\n",
              "      <td>5</td>\n",
              "      <td>7</td>\n",
              "      <td>9</td>\n",
              "      <td>8</td>\n",
              "      <td>2.5</td>\n",
              "      <td>1.000000</td>\n",
              "      <td>1.0</td>\n",
              "      <td>1.000000</td>\n",
              "      <td>1.0</td>\n",
              "    </tr>\n",
              "    <tr>\n",
              "      <th>10</th>\n",
              "      <td>Honda City</td>\n",
              "      <td>5</td>\n",
              "      <td>8</td>\n",
              "      <td>7</td>\n",
              "      <td>8</td>\n",
              "      <td>2.7</td>\n",
              "      <td>1.428286</td>\n",
              "      <td>2.2</td>\n",
              "      <td>1.261599</td>\n",
              "      <td>1.0</td>\n",
              "    </tr>\n",
              "    <tr>\n",
              "      <th>15</th>\n",
              "      <td>Suzuki Ertiga</td>\n",
              "      <td>7</td>\n",
              "      <td>7</td>\n",
              "      <td>7</td>\n",
              "      <td>7</td>\n",
              "      <td>2.3</td>\n",
              "      <td>2.457641</td>\n",
              "      <td>4.2</td>\n",
              "      <td>2.155009</td>\n",
              "      <td>2.0</td>\n",
              "    </tr>\n",
              "  </tbody>\n",
              "</table>\n",
              "</div>"
            ],
            "text/plain": [
              "       Nama Mobil  Ukuran  ...  Minkowski Distance  Supremum Distance\n",
              "9     Toyota Vios       5  ...            1.000000                1.0\n",
              "10     Honda City       5  ...            1.261599                1.0\n",
              "15  Suzuki Ertiga       7  ...            2.155009                2.0\n",
              "\n",
              "[3 rows x 10 columns]"
            ]
          },
          "metadata": {
            "tags": []
          }
        },
        {
          "output_type": "stream",
          "text": [
            "---> Sort By: Supremum Distance:\n"
          ],
          "name": "stdout"
        },
        {
          "output_type": "display_data",
          "data": {
            "text/html": [
              "<div>\n",
              "<style scoped>\n",
              "    .dataframe tbody tr th:only-of-type {\n",
              "        vertical-align: middle;\n",
              "    }\n",
              "\n",
              "    .dataframe tbody tr th {\n",
              "        vertical-align: top;\n",
              "    }\n",
              "\n",
              "    .dataframe thead th {\n",
              "        text-align: right;\n",
              "    }\n",
              "</style>\n",
              "<table border=\"1\" class=\"dataframe\">\n",
              "  <thead>\n",
              "    <tr style=\"text-align: right;\">\n",
              "      <th></th>\n",
              "      <th>Nama Mobil</th>\n",
              "      <th>Ukuran</th>\n",
              "      <th>Kenyamanan</th>\n",
              "      <th>Irit</th>\n",
              "      <th>Kecepatan</th>\n",
              "      <th>Harga (Ratus Juta)</th>\n",
              "      <th>Euclidean Distance</th>\n",
              "      <th>Manhattan Distance</th>\n",
              "      <th>Minkowski Distance</th>\n",
              "      <th>Supremum Distance</th>\n",
              "    </tr>\n",
              "  </thead>\n",
              "  <tbody>\n",
              "    <tr>\n",
              "      <th>9</th>\n",
              "      <td>Toyota Vios</td>\n",
              "      <td>5</td>\n",
              "      <td>7</td>\n",
              "      <td>9</td>\n",
              "      <td>8</td>\n",
              "      <td>2.5</td>\n",
              "      <td>1.000000</td>\n",
              "      <td>1.0</td>\n",
              "      <td>1.000000</td>\n",
              "      <td>1.0</td>\n",
              "    </tr>\n",
              "    <tr>\n",
              "      <th>10</th>\n",
              "      <td>Honda City</td>\n",
              "      <td>5</td>\n",
              "      <td>8</td>\n",
              "      <td>7</td>\n",
              "      <td>8</td>\n",
              "      <td>2.7</td>\n",
              "      <td>1.428286</td>\n",
              "      <td>2.2</td>\n",
              "      <td>1.261599</td>\n",
              "      <td>1.0</td>\n",
              "    </tr>\n",
              "    <tr>\n",
              "      <th>2</th>\n",
              "      <td>Toyota Avanza</td>\n",
              "      <td>6</td>\n",
              "      <td>5</td>\n",
              "      <td>6</td>\n",
              "      <td>6</td>\n",
              "      <td>2.0</td>\n",
              "      <td>3.640055</td>\n",
              "      <td>7.5</td>\n",
              "      <td>2.928883</td>\n",
              "      <td>2.0</td>\n",
              "    </tr>\n",
              "  </tbody>\n",
              "</table>\n",
              "</div>"
            ],
            "text/plain": [
              "       Nama Mobil  Ukuran  ...  Minkowski Distance  Supremum Distance\n",
              "9     Toyota Vios       5  ...            1.000000                1.0\n",
              "10     Honda City       5  ...            1.261599                1.0\n",
              "2   Toyota Avanza       6  ...            2.928883                2.0\n",
              "\n",
              "[3 rows x 10 columns]"
            ]
          },
          "metadata": {
            "tags": []
          }
        }
      ]
    }
  ]
}